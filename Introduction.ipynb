{
  "nbformat": 4,
  "nbformat_minor": 0,
  "metadata": {
    "colab": {
      "name": "Untitled1.ipynb",
      "provenance": [],
      "collapsed_sections": [],
      "authorship_tag": "ABX9TyNikk+mbl1UHtS2ccrXNdvt",
      "include_colab_link": true
    },
    "kernelspec": {
      "name": "python3",
      "display_name": "Python 3"
    }
  },
  "cells": [
    {
      "cell_type": "markdown",
      "metadata": {
        "id": "view-in-github",
        "colab_type": "text"
      },
      "source": [
        "<a href=\"https://colab.research.google.com/github/Mohamad-Alshalabi/Coursera_Capstone/blob/master/Introduction.ipynb\" target=\"_parent\"><img src=\"https://colab.research.google.com/assets/colab-badge.svg\" alt=\"Open In Colab\"/></a>"
      ]
    },
    {
      "cell_type": "markdown",
      "metadata": {
        "id": "8iXCjIia4Sdq"
      },
      "source": [
        "#**THE BATTLE OF NEIGHBORHOODS (WEEK1).**\r\n",
        "\r\n",
        "##**Introduction**\r\n",
        "\r\n",
        "\r\n",
        "\r\n",
        "Stockholm is the capital and most populous urban area of Sweden as well as in Scandinavia. Around 1 million people live in the municipality, approximately 1.6 million in the urban area, and 2.4 million in the metropolitan area. The city stretches across fourteen islands and it's one of the five fastest-growing cities in Europe.\r\n",
        "\r\n",
        "\r\n",
        "Geographically, Stockholm city area only covers 188 squared kilometers; the area stretches to 6,519 squared kilometers for the metropolitan area. The disparity between the city center's density and the metropolitan area is more than ten folds, where the density within the city center is 5200 per sqr/km, the density in the metropolitan area is only 370 per sqr/km.\r\n",
        "There are more than 3000 restaurants in Stockholm. The biggest food retailers in Sweden collectively have around 460 stores in Stockholm.\r\n",
        "\r\n",
        "\r\n"
      ]
    },
    {
      "cell_type": "markdown",
      "metadata": {
        "id": "mwHtqFpn4T3T"
      },
      "source": [
        "\r\n",
        "##**Problem**\r\n",
        "\r\n",
        "\r\n",
        "The food supply in Stockholm metropolitan area concentrates mainly within the center, while the peripheries have less coverage. Opening a new food venue might be more profitable if the new establishments locate in areas with higher food demand. To tackle this problem we need to estimate the food demand in each neighborhood.\r\n",
        "1.\tDefine Stockholm's neighborhoods\r\n",
        "2.\tEstimate the food demand in each neighborhood\r\n"
      ]
    },
    {
      "cell_type": "markdown",
      "metadata": {
        "id": "xnEyqCTBUKEz"
      },
      "source": [
        "#**Target market** \r\n",
        "\r\n",
        "\r\n",
        "This study can benefit both food retailers and new investors in the food and beverage market in Stockholm, pointing out the regions with the least food coverage can open the path for various investment opportunities.  \r\n"
      ]
    }
  ]
}