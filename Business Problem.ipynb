{
  "nbformat": 4,
  "nbformat_minor": 0,
  "metadata": {
    "colab": {
      "name": "Untitled1.ipynb",
      "provenance": [],
      "authorship_tag": "ABX9TyMGLXse+pmhOSIFh7kzj0LM",
      "include_colab_link": true
    },
    "kernelspec": {
      "name": "python3",
      "display_name": "Python 3"
    }
  },
  "cells": [
    {
      "cell_type": "markdown",
      "metadata": {
        "id": "view-in-github",
        "colab_type": "text"
      },
      "source": [
        "<a href=\"https://colab.research.google.com/github/Mohamad-Alshalabi/Coursera_Capstone/blob/master/Business%20Problem.ipynb\" target=\"_parent\"><img src=\"https://colab.research.google.com/assets/colab-badge.svg\" alt=\"Open In Colab\"/></a>"
      ]
    },
    {
      "cell_type": "markdown",
      "metadata": {
        "id": "8iXCjIia4Sdq"
      },
      "source": [
        "#**THE BATTLE OF NEIGHBORHOODS**\r\n",
        "\r\n",
        "##**Introduction**\r\n",
        "\r\n",
        "The food supply in Stockholm concentrates mainly within the center, while the peripheries have less coverage. Opening a new food venue might profit more if the new establishments locate in areas with higher demand for food.\r\n",
        "\r\n",
        "##**Problem**\r\n",
        "\r\n",
        "1. **Define Stockholm's neighborhoods**\r\n",
        "2. **Estimate the food demand in each neighborhood**\r\n"
      ]
    },
    {
      "cell_type": "markdown",
      "metadata": {
        "id": "mwHtqFpn4T3T"
      },
      "source": [
        ""
      ]
    }
  ]
}