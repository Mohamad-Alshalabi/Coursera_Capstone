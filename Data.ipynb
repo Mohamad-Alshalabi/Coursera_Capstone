{
  "nbformat": 4,
  "nbformat_minor": 0,
  "metadata": {
    "colab": {
      "name": "Untitled2.ipynb",
      "provenance": [],
      "authorship_tag": "ABX9TyPMFa85nMnFwQIqSY63NiX0",
      "include_colab_link": true
    },
    "kernelspec": {
      "name": "python3",
      "display_name": "Python 3"
    }
  },
  "cells": [
    {
      "cell_type": "markdown",
      "metadata": {
        "id": "view-in-github",
        "colab_type": "text"
      },
      "source": [
        "<a href=\"https://colab.research.google.com/github/Mohamad-Alshalabi/Coursera_Capstone/blob/master/Data.ipynb\" target=\"_parent\"><img src=\"https://colab.research.google.com/assets/colab-badge.svg\" alt=\"Open In Colab\"/></a>"
      ]
    },
    {
      "cell_type": "markdown",
      "metadata": {
        "id": "l1xJyEb_5UFu"
      },
      "source": [
        "#**Data**\r\n",
        "\r\n",
        "**The data is obtained from various sources**\r\n",
        "\r\n",
        "1. The name and the postal code for each neighborhood collected and scrapped from the following website: https://worldpostalcode.com\r\n",
        "2. The Latitude, the Longitude and the Population for each neighborhood in stockholm manually collected and gathered in one CSV file.\r\n",
        "3. Name, location, latitude, longitude for each food venue in the neighborhoods collected from https://api.foursquare.com website"
      ]
    }
  ]
}